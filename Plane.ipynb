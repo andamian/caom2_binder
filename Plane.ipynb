{
 "cells": [
  {
   "cell_type": "markdown",
   "metadata": {},
   "source": [
    "# Introduction to CAOM\n",
    "\n",
    "To enable future growth and enhance the ability of users to find data of interest to their science case, the CADC has developed the **Common Archive Observation Model (CAOM)**. CAOM (now at version 2.2) enables the storage of observational metadata from the complete set of telescopic data and searching through that metadata using a single interface. The generalized capability of CAOM comes at the expense of some model complexity and the requirement of adopting a language that is unfamiliar to users. To decrease the learning curve for users, the CADC exposes CAOM via a simplified search web page interface (AdvancedSearch), this same interface provides access to all observations stored in the archive. For users requiring access to more details of the observations and greater flexibility in query construction CAOM is also exposed via a Table Access Protocol (TAP) web service that can be accessed via tools like ‘Topcat’ or directly via any http aware client. CAOM greatly decreases the workload involved in maintaining an archive but still requires expert knowledge to ensure that the metadata is correctly translated from the observational record into the CAOM database system.\n",
    "\n",
    "CAOM metadata records that describe a complete observation can be constructed using two pieces of software. Each can be used independently and users are not required to use both. Before beginning with creating a record, however, one should understand the structure of the metadata model.\n",
    "\n",
    "CAOM consists of a database structure that describe the circumstances (Timing, Location and Wavelength/Frequency) of an observation, the nature observation (image, spectrograph, polarizing, receiver, etc.) and the processing level of different files associated with the observation (ie. the raw and calibrated data are stored in the same CAOM entry).\n",
    "\n",
    "The top level of the model is the Observation. The Observation is the overall container for all associated datasets. Each associated data set is stored in a Plane, so an Observation is made up of multiple Planes data. Within each Plane are the actual data files that contain the observational data, the Artifacts of the Plane, a FITS file is a good example of an Artifact. Any complex data structures within an Artifact, such a Multi Extension FITS file, is further described by having each structure within the Artifact described as a Part. A single Artifact can contain multiple Parts. A Part within an Artifact is normally describable and findable via metadata stored within the Artifact (such as the headers of an MEF file). Sometimes, very very rarely, a Part might itself contain complex data structures that are not clearly separated by metadata within the file, each of the data structures (normally there is only one) within a Part is called a Chunk. Thus we have:\n",
    "\n",
    "in\n",
    "Observation\n",
    "\n",
    "  ```-> Plane \n",
    "    -> Artifact\n",
    "        -> Part \n",
    "            -> Chunk  \n",
    "        -> Part \n",
    "            -> Chunk \n",
    "        -> Part \n",
    "            ...\n",
    "  -> Plane\n",
    "    -> Artifact \n",
    "        ... \n",
    "  -> Plane \n",
    "     ...```\n",
    "     \n",
    "A technical description of CAOM, including a UML, is available from [CAOM Reference Documentation](http://www.opencadc.org/caom2/)\n",
    "\n",
    "To create a CAOM record for transfer into the CADC database search system can be achieved using the software too fits2caom2 or by developing your own software in Python base on the pyCAOM2 module or both! The best place to start is likely to examine an existing set of CAOM2 records as examples, likely ones that are for observations that are similar to those you are attempting to store within the CADC.\n",
    "\n",
    "\n"
   ]
  },
  {
   "cell_type": "markdown",
   "metadata": {},
   "source": [
    "# Tutorial\n",
    "This tutorial describes the mechanism for accessing ALMA metadata and creating corresponding CAOM2 metadata. The Python code below is dependent on the following packages all of which available in pypi and installable with the command `pip install <package>`:\n",
    "1. `astropy` - [astropy](https://github.com/astropy/astropy)\n",
    "2. `astroquery` - [astroquery](https://github.com/astropy/astroquery)\n",
    "3. `caom2` - [caom2](https://github.com/opencadc/caom2tools)\n",
    "\n",
    "## Step 1 - Model the data\n",
    "One possible model is to map every Member ous id to a plane. **TBD: reasoning and possible discussion**"
   ]
  },
  {
   "cell_type": "code",
   "execution_count": 2,
   "metadata": {},
   "outputs": [
    {
     "data": {
      "text/html": [
       "<i>Table masked=True length=3</i>\n",
       "<table id=\"table139964485506664-876062\" class=\"table-striped table-bordered table-condensed\">\n",
       "<thead><tr><th>idx</th><th>Project code</th><th>Source name</th><th>RA</th><th>Dec</th><th>Galactic longitude</th><th>Galactic latitude</th><th>Band</th><th>Spatial resolution</th><th>Frequency resolution</th><th>Array</th><th>Mosaic</th><th>Integration</th><th>Release date</th><th>Frequency support</th><th>Velocity resolution</th><th>Pol products</th><th>Observation date</th><th>PI name</th><th>SB name</th><th>Proposal authors</th><th>Line sensitivity (10 km/s)</th><th>Continuum sensitivity</th><th>PWV</th><th>Group ous id</th><th>Member ous id</th><th>Asdm uid</th><th>Project title</th><th>Project type</th><th>Scan intent</th><th>Field of view</th><th>Largest angular scale</th><th>QA2 Status</th><th>COUNT</th><th>Science keyword</th><th>Scientific category</th><th>ASA_PROJECT_CODE</th></tr></thead>\n",
       "<thead><tr><th></th><th></th><th></th><th>deg</th><th>deg</th><th>deg</th><th>deg</th><th></th><th></th><th>kHz</th><th></th><th></th><th>s</th><th></th><th>GHz</th><th>m / s</th><th></th><th></th><th></th><th></th><th></th><th></th><th>mJy/beam</th><th>mm</th><th></th><th></th><th></th><th></th><th></th><th></th><th>arcsec</th><th>arcsec</th><th></th><th></th><th></th><th></th><th></th></tr></thead>\n",
       "<tr><td>0</td><td>2016.1.00330.S</td><td>AzTEC-3</td><td>150.08624999998295</td><td>2.5890300000001023</td><td>236.3744731264975</td><td>42.31636591440288</td><td>[6]</td><td>1.3802496212413773</td><td>3906.25</td><td>12m</td><td></td><td>1814.4</td><td>2</td><td>[236.89..238.77GHz,3906.25kHz,849.4uJy/beam@10km/s,55.3uJy/beam@native, XX YY] U [238.77..240.64GHz,3906.25kHz,860.9uJy/beam@10km/s,56.2uJy/beam@native, XX YY] U [253.02..254.89GHz,3906.25kHz,877.2uJy/beam@10km/s,59uJy/beam@native, XX YY] U [254.89..256.77GHz,3906.25kHz,882.7uJy/beam@10km/s,59.5uJy/beam@native, XX YY]</td><td>4560.818977915666</td><td>XX YY</td><td>2017-03-25 01:40:24</td><td>Riechers, Dominik</td><td>AzTEC-3_a_06_TM1</td><td>Scoville, Nick; Pavesi, Riccardo; Smolcic, Vernesa; Karim, Alexander; carilli, Chris; Schinnerer, Eva; Capak, Peter;</td><td>0.8494474424707475</td><td>0.028704754143949133</td><td>2.8617756</td><td>uid://A001/X11a2/X10</td><td>uid://A001/X11a2/X11</td><td>uid://A002/Xbe5932/X1015</td><td>Detailed Gas and Dust Physics in &quot;Normal&quot; Galaxies and Starbursts at z&gt;5</td><td>S</td><td>TARGET</td><td>25.52365324481848</td><td>5.888078542529382</td><td>Y</td><td>0</td><td>Lyman Break Galaxies (LBG), Sub-mm Galaxies (SMG)</td><td>Galaxy evolution</td><td>2016.1.00330.S</td></tr>\n",
       "<tr><td>1</td><td>2016.1.00330.S</td><td>J0948+0022</td><td>147.23883369998777</td><td>0.37376649999999684</td><td>236.58959190120834</td><td>38.713308468389506</td><td>[6]</td><td>1.3814147665271306</td><td>3906.25</td><td>12m</td><td></td><td>181.44</td><td>2</td><td>[236.89..238.77GHz,3906.25kHz,2.7mJy/beam@10km/s,173.3uJy/beam@native, XX YY] U [238.77..240.64GHz,3906.25kHz,2.7mJy/beam@10km/s,176.2uJy/beam@native, XX YY] U [253.02..254.89GHz,3906.25kHz,2.7mJy/beam@10km/s,184.8uJy/beam@native, XX YY] U [254.89..256.77GHz,3906.25kHz,2.8mJy/beam@10km/s,186.6uJy/beam@native, XX YY]</td><td>4560.818977915666</td><td>XX YY</td><td>2017-03-25 01:40:24</td><td>Riechers, Dominik</td><td>AzTEC-3_a_06_TM1</td><td>Scoville, Nick; Pavesi, Riccardo; Smolcic, Vernesa; Karim, Alexander; carilli, Chris; Schinnerer, Eva; Capak, Peter;</td><td>2.6636240090787386</td><td>0.0899750387324174</td><td>2.8617756</td><td>uid://A001/X11a2/X10</td><td>uid://A001/X11a2/X11</td><td>uid://A002/Xbe5932/X1015</td><td>Detailed Gas and Dust Physics in &quot;Normal&quot; Galaxies and Starbursts at z&gt;5</td><td>S</td><td>PHASE WVR</td><td>25.52365324481848</td><td>5.893048996315706</td><td>Y</td><td>0</td><td>Lyman Break Galaxies (LBG), Sub-mm Galaxies (SMG)</td><td>Galaxy evolution</td><td>2016.1.00330.S</td></tr>\n",
       "<tr><td>2</td><td>2016.1.00330.S</td><td>J1058+0133</td><td>164.62335416662103</td><td>1.5663400000005478</td><td>251.51067721245977</td><td>52.77395252779326</td><td>[6]</td><td>1.5011423257561953</td><td>3906.25</td><td>12m</td><td></td><td>302.4</td><td>2</td><td>[236.89..238.77GHz,3906.25kHz,2.1mJy/beam@10km/s,134.8uJy/beam@native, XX YY] U [238.77..240.64GHz,3906.25kHz,2.1mJy/beam@10km/s,137.1uJy/beam@native, XX YY] U [253.02..254.89GHz,3906.25kHz,2.1mJy/beam@10km/s,143.8uJy/beam@native, XX YY] U [254.89..256.77GHz,3906.25kHz,2.2mJy/beam@10km/s,145.2uJy/beam@native, XX YY]</td><td>4560.818977915666</td><td>XX YY</td><td>2017-03-25 01:40:24</td><td>Riechers, Dominik</td><td>AzTEC-3_a_06_TM1</td><td>Scoville, Nick; Pavesi, Riccardo; Smolcic, Vernesa; Karim, Alexander; carilli, Chris; Schinnerer, Eva; Capak, Peter;</td><td>2.0723765383918473</td><td>0.07001741082844595</td><td>2.8617756</td><td>uid://A001/X11a2/X10</td><td>uid://A001/X11a2/X11</td><td>uid://A002/Xbe5932/X1015</td><td>Detailed Gas and Dust Physics in &quot;Normal&quot; Galaxies and Starbursts at z&gt;5</td><td>S</td><td>BANDPASS FLUX WVR</td><td>25.52365324481848</td><td>6.403801009282779</td><td>Y</td><td>0</td><td>Lyman Break Galaxies (LBG), Sub-mm Galaxies (SMG)</td><td>Galaxy evolution</td><td>2016.1.00330.S</td></tr>\n",
       "</table><style>table.dataTable {clear: both; width: auto !important; margin: 0 !important;}\n",
       ".dataTables_info, .dataTables_length, .dataTables_filter, .dataTables_paginate{\n",
       "display: inline-block; margin-right: 1em; }\n",
       ".paginate_button { margin-right: 5px; }\n",
       "</style>\n",
       "<script>\n",
       "\n",
       "var astropy_sort_num = function(a, b) {\n",
       "    var a_num = parseFloat(a);\n",
       "    var b_num = parseFloat(b);\n",
       "\n",
       "    if (isNaN(a_num) && isNaN(b_num))\n",
       "        return ((a < b) ? -1 : ((a > b) ? 1 : 0));\n",
       "    else if (!isNaN(a_num) && !isNaN(b_num))\n",
       "        return ((a_num < b_num) ? -1 : ((a_num > b_num) ? 1 : 0));\n",
       "    else\n",
       "        return isNaN(a_num) ? -1 : 1;\n",
       "}\n",
       "\n",
       "require.config({paths: {\n",
       "    datatables: 'https://cdn.datatables.net/1.10.12/js/jquery.dataTables.min'\n",
       "}});\n",
       "require([\"datatables\"], function(){\n",
       "    console.log(\"$('#table139964485506664-876062').dataTable()\");\n",
       "    \n",
       "jQuery.extend( jQuery.fn.dataTableExt.oSort, {\n",
       "    \"optionalnum-asc\": astropy_sort_num,\n",
       "    \"optionalnum-desc\": function (a,b) { return -astropy_sort_num(a, b); }\n",
       "});\n",
       "\n",
       "    $('#table139964485506664-876062').dataTable({\n",
       "        order: [],\n",
       "        pageLength: 50,\n",
       "        lengthMenu: [[10, 25, 50, 100, 500, 1000, -1], [10, 25, 50, 100, 500, 1000, 'All']],\n",
       "        pagingType: \"full_numbers\",\n",
       "        columnDefs: [{targets: [0, 3, 4, 5, 6, 8, 9, 12, 15, 21, 22, 23, 30, 31, 33], type: \"optionalnum\"}]\n",
       "    });\n",
       "});\n",
       "</script>\n"
      ],
      "text/plain": [
       "<IPython.core.display.HTML object>"
      ]
     },
     "execution_count": 2,
     "metadata": {},
     "output_type": "execute_result"
    }
   ],
   "source": [
    "from astroquery.alma import Alma\n",
    "results = Alma.query({'member_ous_id': 'uid://A001/X11a2/X11'}, science=False)\n",
    "results.show_in_notebook()"
   ]
  },
  {
   "cell_type": "markdown",
   "metadata": {},
   "source": [
    "Now that we have the metadata, let's build a CAOM2 observation. There are 2 types of observations in CAOM2: simple and composite. Details...\n",
    "This is a simple observation so let's build it. At a minimum an observation is part of a collection (ALMA in this case) and it has an unique ID. Note that the observation id must be compatible with the path part of a URI. We will use the member_ous_id in the ALMA metadata but transform it to be compatible.\n",
    "\n",
    "**TODO** describe algorithm"
   ]
  },
  {
   "cell_type": "code",
   "execution_count": 3,
   "metadata": {},
   "outputs": [
    {
     "name": "stdout",
     "output_type": "stream",
     "text": [
      "Observation ID: A001_X11a2_X11\n"
     ]
    }
   ],
   "source": [
    "obs_id = results[0]['Member ous id'].replace('uid://', '').replace('/', '_')\n",
    "print('Observation ID: {}'.format(obs_id))\n",
    "import caom2\n",
    "obs = caom2.Observation('ALMA', obs_id, algorithm='exposure')"
   ]
  },
  {
   "cell_type": "markdown",
   "metadata": {},
   "source": [
    "Now fill in other Observation metadata:\n",
    "\n",
    "**TODO** describe"
   ]
  },
  {
   "cell_type": "code",
   "execution_count": 4,
   "metadata": {},
   "outputs": [
    {
     "name": "stdout",
     "output_type": "stream",
     "text": [
      "Observation.collection : ALMA\n",
      "Observation.observation_id : A001_X11a2_X11\n",
      "Observation.algorithm : Algorithm.name : Exposure\n",
      "Observation.sequence_number : None\n",
      "Observation.intent : ObservationIntentType.SCIENCE\n",
      "Observation.type : None\n",
      "Observation.proposal : Proposal.id : 2016.1.00330.S\n",
      "Proposal.pi_name : Riechers, Dominik\n",
      "Proposal.project : 2016.1.00330.S\n",
      "Proposal.title : Detailed Gas and Dust Physics in \"Normal\" Galaxies and Starbursts at z>5\n",
      "Observation.telescope : Telescope.name : ALMA-12m\n",
      "Telescope.geo_location_x : 2225142.18\n",
      "Telescope.geo_location_y : -5440307.37\n",
      "Telescope.geo_location_z : -2481029.852\n",
      "Telescope.keywords : set()\n",
      "Observation.instrument : Instrument.name : BAND 6\n",
      "Observation.target : Target.name : TBD\n",
      "Target.target_type : TargetType.OBJECT\n",
      "Target.standard : None\n",
      "Target.redshift : None\n",
      "Target.keywords : set()\n",
      "Target.moving : None\n",
      "Observation.meta_release : 2017-03-25 01:40:24\n",
      "Observation.planes : \n",
      "Observation.environment : None\n",
      "Observation.target_position : None\n",
      "Observation.requirements : None\n"
     ]
    }
   ],
   "source": [
    "# observation level metadata is common amongst all rows. Can retrieve\n",
    "# from the first row\n",
    "from datetime import datetime\n",
    "\n",
    "fr = results[0]\n",
    "obs.meta_release = datetime.strptime(fr['Observation date'].decode('ascii'), '%Y-%m-%d %H:%M:%S')\n",
    "proposal = caom2.Proposal(fr['ASA_PROJECT_CODE'])\n",
    "proposal.project = fr['Project code']\n",
    "proposal.pi_name = fr['PI name']\n",
    "proposal.title = fr['Project title']\n",
    "proposal.keywords = set(fr['Science keyword'].split(','))\n",
    "obs.proposal = proposal\n",
    "instrument = caom2.Instrument('BAND {}'.format(fr['Band'][0]))\n",
    "obs.instrument = instrument\n",
    "obs.algorithm = caom2.Algorithm('Exposure')\n",
    "obs.intent = caom2.ObservationIntentType.SCIENCE\n",
    "obs.telescope = caom2.Telescope('ALMA-{}'.format(fr['Array'].decode('ascii')), 2225142.18, -5440307.37, -2481029.852)\n",
    "obs.target = caom2.Target(name='TBD', target_type=caom2.TargetType.OBJECT)\n",
    "\n",
    "print(obs)"
   ]
  },
  {
   "cell_type": "markdown",
   "metadata": {},
   "source": [
    "## Plane\n",
    "\n",
    "Time now to add the corresponding planes. Each plane is characterized by position, time, energy and polarization metadata. This is extracted from each of the rows in the `results` variable.\n",
    "\n",
    "*Note:* Care should be taken using proper units when setting the values in the CAOM2 model. To do that, we use the `astropy.units` module to convert the units for each column into the units used by the CAOM2 model.\n",
    "\n",
    "### Position\n",
    "In ALMA's case the shape is circle with the center at (`RA`, `DEC`) and radius `Field of view/2`. Again, units are obtained from the table. CAOM2 units for `caom2.Point` defined by `RA` and `DEC` as well as `radius` are `degrees`. "
   ]
  },
  {
   "cell_type": "code",
   "execution_count": 6,
   "metadata": {},
   "outputs": [
    {
     "name": "stdout",
     "output_type": "stream",
     "text": [
      "Position.bounds : Circle.center : Point.cval1 : 150.08624999998295\n",
      "Point.cval2 : 2.5890300000001023\n",
      "Circle.radius : 0.003544951839558122\n",
      "Position.dimension : None\n",
      "Position.resolution : 1.3802496212413773\n",
      "Position.sample_size : None\n",
      "Position.time_dependent : None\n"
     ]
    }
   ],
   "source": [
    "import astropy.units as u\n",
    "\n",
    "def _get_position(row, table):\n",
    "    # Extracts position from a returned row of the ALMA results table\n",
    "    position = caom2.Position()\n",
    "    position.resolution = row['Spatial resolution']\n",
    "    # Shape is circle\n",
    "    # make sure all units are degrees\n",
    "    ra = row['RA'] * table['RA'].unit.to(u.deg)\n",
    "    dec = row['Dec'] * table['Dec'].unit.to(u.deg)\n",
    "    radius = row['Field of view'] * table['Field of view'].unit.to(u.deg) / 2.0\n",
    "    circle = caom2.Circle(caom2.Point(ra, dec), radius)\n",
    "    position.bounds = circle\n",
    "    return position\n",
    "\n",
    "# test\n",
    "print(_get_position(results[0], results))"
   ]
  },
  {
   "cell_type": "markdown",
   "metadata": {},
   "source": [
    "### Time\n",
    "\n",
    "`Observation date` is the start date and `Integration` is the integration time. CAOM2 units are `second`.\n",
    "\n",
    "**TODO** UTC transformation or not?\n",
    "\n",
    "**TODO** bounds vs subinterval"
   ]
  },
  {
   "cell_type": "code",
   "execution_count": 21,
   "metadata": {},
   "outputs": [
    {
     "name": "stdout",
     "output_type": "stream",
     "text": [
      "Time.bounds : Interval.lower : 57837.06972222222\n",
      "Interval.upper : 57837.09072222222\n",
      "Interval.samples : [caom2.shape.SubInterval(lower=57837.06972222222,\n",
      "                        upper=57837.09072222222)]\n",
      "Time.dimension : None\n",
      "Time.resolution : None\n",
      "Time.sample_size : None\n",
      "Time.exposure : 1814.4\n"
     ]
    }
   ],
   "source": [
    "from astropy.time import Time as AstropyTime\n",
    "\n",
    "def _get_time(row, table):\n",
    "    # Extracts time information from a rrow fo returned ALMA table\n",
    "    time = caom2.Time()\n",
    "    time.exposure = \\\n",
    "        row['Integration'] * table['Integration'].unit.to(u.second)\n",
    "    time_lb = AstropyTime(datetime.strptime(\n",
    "        row['Observation date'].decode('ascii'), '%Y-%m-%d %H:%M:%S'))\n",
    "    time_ub = time_lb + time.exposure * u.second\n",
    "    time_interval = caom2.Interval(time_lb.mjd, time_ub.mjd)\n",
    "    samples = caom2.shape.SubInterval(time_lb.mjd, time_ub.mjd)\n",
    "    time_interval.samples = [samples]\n",
    "    time.bounds = time_interval\n",
    "    return time\n",
    "\n",
    "# test\n",
    "print(_get_time(results[0], results))"
   ]
  },
  {
   "cell_type": "markdown",
   "metadata": {},
   "source": [
    "### Energy\n",
    "\n",
    "Energy bounds are extracted from the `Frequency support` field. The intervals in this field my overlap which is invalid in CAOM2. Therefore, the intervals are passed through the `_add_subinterval` function which resolves overlapping intervals.\n",
    "\n",
    "**TODO** discusion on bounds vs. samples\n"
   ]
  },
  {
   "cell_type": "code",
   "execution_count": 22,
   "metadata": {},
   "outputs": [
    {
     "name": "stdout",
     "output_type": "stream",
     "text": [
      "Energy.bounds : Interval.lower : 0.0011675525100284302\n",
      "Interval.upper : 0.0012655344590316183\n",
      "Interval.samples : [caom2.shape.SubInterval(lower=0.0011675525100284302,\n",
      "                        upper=0.0011848567623112798), caom2.shape.SubInterval(lower=0.0012458130734707448,\n",
      "                        upper=0.0012655344590316183)]\n",
      "Energy.dimension : None\n",
      "Energy.resolving_power : None\n",
      "Energy.sample_size : None\n",
      "Energy.bandpass_name : None\n",
      "Energy.em_band : None\n",
      "Energy.transition : None\n",
      "Energy.restwav : None\n"
     ]
    }
   ],
   "source": [
    "import re\n",
    "\n",
    "def _get_energy(row):\n",
    "    def _add_subinterval(si_list, subinterval):\n",
    "        if not si_list:\n",
    "            return [subinterval]\n",
    "        # check for overlaps\n",
    "        # begining of the list?\n",
    "        if subinterval[1] < si_list[0][0]:\n",
    "            return [subinterval] + si_list\n",
    "        if subinterval[0] > si_list[-1][1]:\n",
    "            return si_list + [subinterval]\n",
    "        result = []\n",
    "        for si in si_list:\n",
    "            if (si[0] >= subinterval[0] and si[0] <= subinterval[1]) or\\\n",
    "                (subinterval[0] >= si[0] and subinterval[0] <= si[1]):\n",
    "                # overlap detected\n",
    "                subinterval = (min(si[0], subinterval[0]),\n",
    "                               max(si[1], subinterval[1]))\n",
    "            else:\n",
    "                if subinterval[0] < si[0]:\n",
    "                    result += [subinterval]\n",
    "                    result += si_list[si_list.index(si):]\n",
    "                    return result\n",
    "                else:\n",
    "                    result += [si]\n",
    "        return result + [subinterval]\n",
    "    # Extracts the energy inform from a returned row\n",
    "    min_bound = None\n",
    "    max_bound = None\n",
    "    si = None # list of non-overlapping sub-intervals\n",
    "    for b in re.findall(r'\\[([^]]*)\\]', row['Frequency support']):\n",
    "        e_int = b.split(',')[0]\n",
    "        vals = e_int.split('..')\n",
    "        lower_freq = float(vals[0])\n",
    "        # upper string of form: 123.45GHz\n",
    "        upper_str = re.findall(r'\\b\\d+\\.?\\d+', vals[1])[0]\n",
    "        upper_freq = float(upper_str)\n",
    "        units = u.Unit(vals[1][len(upper_str):])\n",
    "        # wavelengths in meters:\n",
    "        upper = (lower_freq*units).to(u.meter, equivalencies=u.spectral()).value\n",
    "        lower = (upper_freq*units).to(u.meter, equivalencies=u.spectral()).value\n",
    "        si = _add_subinterval(si, (lower, upper))\n",
    "        if min_bound is not None:\n",
    "            min_bound = min(min_bound, lower)\n",
    "        else:\n",
    "            min_bound = lower\n",
    "        if max_bound is not None:\n",
    "            max_bound = max(max_bound, upper)\n",
    "        else:\n",
    "            max_bound = upper\n",
    "    samples = []\n",
    "    for s in si:\n",
    "        samples.append(caom2.shape.SubInterval(s[0], s[1]))\n",
    "    bounds = caom2.Interval(min_bound, max_bound, samples=samples)\n",
    "    return caom2.Energy(bounds=bounds)\n",
    "\n",
    "# test\n",
    "print(_get_energy(results[0]))"
   ]
  },
  {
   "cell_type": "markdown",
   "metadata": {},
   "source": [
    "### Polarization\n",
    "\n",
    "The polarization information is extracted from the `Pol products` field."
   ]
  },
  {
   "cell_type": "code",
   "execution_count": 23,
   "metadata": {},
   "outputs": [
    {
     "name": "stdout",
     "output_type": "stream",
     "text": [
      "Polarization.dimension : None\n",
      "Polarization.polarization_states : [<PolarizationState.XX: 'XX'>, <PolarizationState.YY: 'YY'>]\n"
     ]
    }
   ],
   "source": [
    "def _get_polarization(row):\n",
    "    # Extracts polarization information from a row\n",
    "    polarization = caom2.Polarization()\n",
    "    polarization.polarization_states = \\\n",
    "        [caom2.PolarizationState(i) for i in row['Pol products'].split()]\n",
    "    return polarization\n",
    "\n",
    "# test\n",
    "print(_get_polarization(results[0]))"
   ]
  },
  {
   "cell_type": "markdown",
   "metadata": {},
   "source": [
    "### Adding the planes to the observation\n",
    "\n",
    "Now it's time to add all the planes to the created observation. The ID of the plane must be unique and be a valid path of a URI. In this case, we'll use the `Source name` and format it to be a valid path."
   ]
  },
  {
   "cell_type": "code",
   "execution_count": 24,
   "metadata": {},
   "outputs": [
    {
     "name": "stdout",
     "output_type": "stream",
     "text": [
      "Observation.collection : ALMA\n",
      "Observation.observation_id : A001_X11a2_X11\n",
      "Observation.algorithm : Algorithm.name : Exposure\n",
      "Observation.sequence_number : None\n",
      "Observation.intent : ObservationIntentType.SCIENCE\n",
      "Observation.type : None\n",
      "Observation.proposal : Proposal.id : 2016.1.00330.S\n",
      "Proposal.pi_name : Riechers, Dominik\n",
      "Proposal.project : 2016.1.00330.S\n",
      "Proposal.title : Detailed Gas and Dust Physics in \"Normal\" Galaxies and Starbursts at z>5\n",
      "Observation.telescope : Telescope.name : ALMA-12m\n",
      "Telescope.geo_location_x : 2225142.18\n",
      "Telescope.geo_location_y : -5440307.37\n",
      "Telescope.geo_location_z : -2481029.852\n",
      "Telescope.keywords : set()\n",
      "Observation.instrument : Instrument.name : BAND 6\n",
      "Observation.target : Target.name : TBD\n",
      "Target.target_type : TargetType.OBJECT\n",
      "Target.standard : None\n",
      "Target.redshift : None\n",
      "Target.keywords : set()\n",
      "Target.moving : None\n",
      "Observation.meta_release : 2017-03-25 01:40:24\n",
      "Observation.planes : AzTEC-3 => Plane.product_id : AzTEC-3\n",
      "Plane.creator_id : None\n",
      "Plane.artifacts : \n",
      "Plane.meta_release : 2017-03-25 01:40:24\n",
      "Plane.data_release : None\n",
      "Plane.data_product_type : DataProductType.VISIBILITY\n",
      "Plane.calibration_level : CalibrationLevel.CALIBRATED\n",
      "Plane.provenance : None\n",
      "Plane.metrics : None\n",
      "Plane.quality : None\n",
      "J0948-0022 => Plane.product_id : J0948-0022\n",
      "Plane.creator_id : None\n",
      "Plane.artifacts : \n",
      "Plane.meta_release : 2017-03-25 01:40:24\n",
      "Plane.data_release : None\n",
      "Plane.data_product_type : DataProductType.VISIBILITY\n",
      "Plane.calibration_level : CalibrationLevel.CALIBRATED\n",
      "Plane.provenance : None\n",
      "Plane.metrics : None\n",
      "Plane.quality : None\n",
      "J1058-0133 => Plane.product_id : J1058-0133\n",
      "Plane.creator_id : None\n",
      "Plane.artifacts : \n",
      "Plane.meta_release : 2017-03-25 01:40:24\n",
      "Plane.data_release : None\n",
      "Plane.data_product_type : DataProductType.VISIBILITY\n",
      "Plane.calibration_level : CalibrationLevel.CALIBRATED\n",
      "Plane.provenance : None\n",
      "Plane.metrics : None\n",
      "Plane.quality : None\n",
      "Observation.environment : None\n",
      "Observation.target_position : None\n",
      "Observation.requirements : None\n"
     ]
    }
   ],
   "source": [
    "for row in results:\n",
    "    productID = re.sub('-$', '', (\n",
    "    re.sub('^-', '', ((re.sub('\\W+', '-', row['Source name'])).\n",
    "                      replace('--', '-')))))\n",
    "    plane = caom2.Plane(productID)\n",
    "    meta_release = \\\n",
    "        datetime.strptime(row['Observation date'].decode('ascii'),\n",
    "                          '%Y-%m-%d %H:%M:%S')\n",
    "    if 'Observation date' in row:\n",
    "        meta_release = datetime.strptime(\n",
    "            row['Observation date'].decode('ascii'), '%Y-%m-%d %H:%M:%S')\n",
    "    plane.meta_release = meta_release\n",
    "    tmp = row['Release date']\n",
    "    if isinstance(tmp, bytes):\n",
    "        tmp = tmp.decode('ascii')\n",
    "    #TODO bug in astroquery.alma\n",
    "    # plane.data_release = datetime.strptime(tmp, ALMA_RELEASE_DATE_FORMAT)\n",
    "\n",
    "    plane.position = _get_position(row, results)\n",
    "    plane.energy = _get_energy(row)\n",
    "    plane.time = _get_time(row, results)\n",
    "    plane.polarization = _get_polarization(row)\n",
    "\n",
    "    plane.data_product_type = caom2.DataProductType.VISIBILITY\n",
    "    plane.calibration_level = caom2.CalibrationLevel.CALIBRATED\n",
    "    obs.planes[productID] = plane\n",
    "\n",
    "print(obs)"
   ]
  },
  {
   "cell_type": "code",
   "execution_count": null,
   "metadata": {},
   "outputs": [],
   "source": []
  },
  {
   "cell_type": "code",
   "execution_count": null,
   "metadata": {},
   "outputs": [],
   "source": []
  }
 ],
 "metadata": {
  "kernelspec": {
   "display_name": "Python 3",
   "language": "python",
   "name": "python3"
  },
  "language_info": {
   "codemirror_mode": {
    "name": "ipython",
    "version": 3
   },
   "file_extension": ".py",
   "mimetype": "text/x-python",
   "name": "python",
   "nbconvert_exporter": "python",
   "pygments_lexer": "ipython3",
   "version": "3.6.7"
  }
 },
 "nbformat": 4,
 "nbformat_minor": 1
}
